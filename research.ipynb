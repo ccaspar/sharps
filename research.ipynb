{
 "cells": [
  {
   "cell_type": "code",
   "execution_count": 1,
   "id": "dc6e7db0",
   "metadata": {},
   "outputs": [],
   "source": [
    "!pip install requests"
   ]
  },
  {
   "cell_type": "code",
   "execution_count": 1,
   "id": "44acb037",
   "metadata": {},
   "outputs": [],
   "source": [
    "import numpy as np\n",
    "import pandas as pd\n",
    "import requests\n",
    "import re\n",
    "from bs4 import BeautifulSoup"
   ]
  },
  {
   "cell_type": "code",
   "execution_count": null,
   "id": "1104553c",
   "metadata": {},
   "outputs": [],
   "source": [
    "# goals\n",
    "# - line history\n",
    "# - % bets\n",
    "# - % money\n",
    "# NFL side and total"
   ]
  },
  {
   "cell_type": "code",
   "execution_count": 2,
   "id": "aab53cf5",
   "metadata": {},
   "outputs": [],
   "source": [
    "# scraping function\n",
    "def scrape_for_soup(base_url, url):\n",
    "    # send GET request\n",
    "    response = requests.get(base_url+url)\n",
    "\n",
    "    # status check\n",
    "    if response.status_code != 200:\n",
    "        return(f\"Error: {response.status_code}\")\n",
    "\n",
    "    # parse HTML\n",
    "    soup = BeautifulSoup(response.text, 'html.parser')\n",
    "    return soup"
   ]
  },
  {
   "cell_type": "code",
   "execution_count": 3,
   "id": "00e3e8df",
   "metadata": {},
   "outputs": [],
   "source": [
    "base_url = 'https://www.sportsbookreview.com'\n",
    "url = '/betting-odds/nfl-football/'\n",
    "soup = scrape_for_soup(base_url, url)\n",
    "\n",
    "# parse links for game spread and spread history\n",
    "games = soup.find_all('div', id='tbody-nfl')\n",
    "main_links = set()\n",
    "line_links = set()\n",
    "for game in games:\n",
    "    for a_tag in game.find_all('a', href=True):\n",
    "        link = a_tag['href']\n",
    "        if 'scores' in link:\n",
    "            main_links.add(link)\n",
    "        if 'line-history' in link:\n",
    "            line_links.add(link)"
   ]
  },
  {
   "cell_type": "code",
   "execution_count": 4,
   "id": "7a2e083a",
   "metadata": {
    "scrolled": true
   },
   "outputs": [
    {
     "data": {
      "text/plain": [
       "{'/scores/nfl-football/matchup/304807/',\n",
       " '/scores/nfl-football/matchup/304842/',\n",
       " '/scores/nfl-football/matchup/304916/',\n",
       " '/scores/nfl-football/matchup/304917/',\n",
       " '/scores/nfl-football/matchup/304918/',\n",
       " '/scores/nfl-football/matchup/304920/',\n",
       " '/scores/nfl-football/matchup/304921/',\n",
       " '/scores/nfl-football/matchup/304922/',\n",
       " '/scores/nfl-football/matchup/304932/',\n",
       " '/scores/nfl-football/matchup/304935/',\n",
       " '/scores/nfl-football/matchup/304936/',\n",
       " '/scores/nfl-football/matchup/304937/',\n",
       " '/scores/nfl-football/matchup/304941/',\n",
       " '/scores/nfl-football/matchup/304945/',\n",
       " '/scores/nfl-football/matchup/304946/'}"
      ]
     },
     "execution_count": 4,
     "metadata": {},
     "output_type": "execute_result"
    }
   ],
   "source": [
    "main_links"
   ]
  },
  {
   "cell_type": "code",
   "execution_count": null,
   "id": "fa51b8f1",
   "metadata": {},
   "outputs": [],
   "source": [
    "# iterate through each link to scrape target data"
   ]
  },
  {
   "cell_type": "code",
   "execution_count": 5,
   "id": "aa67d41a",
   "metadata": {},
   "outputs": [],
   "source": [
    "# send request\n",
    "game_url = list(main_links)[0]\n",
    "game_soup = scrape_for_soup(base_url, game_url)\n",
    "# pull number bets on spread and o/u"
   ]
  },
  {
   "cell_type": "code",
   "execution_count": 6,
   "id": "1b3b6640",
   "metadata": {},
   "outputs": [
    {
     "name": "stdout",
     "output_type": "stream",
     "text": [
      "https://www.sportsbookreview.com/scores/nfl-football/matchup/304932/\n"
     ]
    }
   ],
   "source": [
    "print(base_url+game_url)"
   ]
  },
  {
   "cell_type": "code",
   "execution_count": 7,
   "id": "6d5bbeeb",
   "metadata": {},
   "outputs": [
    {
     "name": "stdout",
     "output_type": "stream",
     "text": [
      "Tampa BayBuccaneers +3.5\n",
      "BaltimoreRavens -3.5\n",
      "Tampa BayBuccaneers +3.5 % bets: 54\n",
      "BaltimoreRavens -3.5 % bets: 46\n",
      "% Over bets: 68\n",
      "% Under bets: 32\n"
     ]
    }
   ],
   "source": [
    "# spread bets\n",
    "spread = game_soup.find('div', text=re.compile('Spread'))\n",
    "home_perc = spread.next_sibling.get_text()[:-1]\n",
    "away_perc = spread.previous_sibling.get_text()[:-1]\n",
    "\n",
    "# over/under bets\n",
    "total = game_soup.find('div', text=re.compile('Total'))\n",
    "over_perc = total.previous_sibling.get_text()[:-3]\n",
    "under_perc = total.next_sibling.get_text()[:-3]\n",
    "\n",
    "# teams and spread\n",
    "away_div = game_soup.find('div', class_=re.compile('TeamName'))\n",
    "home_div = game_soup.find('div', class_=re.compile('TeamName')).findNext('div', class_=re.compile('TeamName'))\n",
    "home_team = re.findall('.+?(?=\\+|-|PK)',home_div.get_text())[0]\n",
    "away_team = re.findall('.+?(?=\\+|-|PK)',away_div.get_text())[0]\n",
    "away_spread = away_div.find(text=re.compile('\\+?\\-?\\d+\\.?\\d*'))\n",
    "home_spread = home_div.find(text=re.compile('\\+?\\-?\\d+\\.?\\d*'))\n",
    "print(home_team, home_spread)\n",
    "print(away_team, away_spread)\n",
    "print(home_team + ' ' + home_spread + ' % bets: ' + home_perc)\n",
    "print(away_team + ' ' + away_spread + ' % bets: ' + away_perc)\n",
    "print('% Over bets: ' + over_perc)\n",
    "print('% Under bets: ' + under_perc)"
   ]
  },
  {
   "cell_type": "code",
   "execution_count": 8,
   "id": "5762e166",
   "metadata": {},
   "outputs": [
    {
     "data": {
      "text/plain": [
       "<div class=\"fs-8 fw-bold my-3\" id=\"gameDate\">Monday, October 21, 2024 - 8:15 PM EDT</div>"
      ]
     },
     "execution_count": 8,
     "metadata": {},
     "output_type": "execute_result"
    }
   ],
   "source": [
    "# pull total\n",
    "game_soup.find('div', text=re.compile('[1-9]\\d{1}(\\.\\d+)?'))"
   ]
  },
  {
   "cell_type": "code",
   "execution_count": 10,
   "id": "db3a5fda",
   "metadata": {},
   "outputs": [],
   "source": [
    "# next: pull total\n",
    "line_url = list(line_links)[0]\n",
    "line_soup = scrape_for_soup(base_url, line_url)"
   ]
  },
  {
   "cell_type": "code",
   "execution_count": 11,
   "id": "8bbb8330",
   "metadata": {},
   "outputs": [
    {
     "name": "stdout",
     "output_type": "stream",
     "text": [
      "https://www.sportsbookreview.com/betting-odds/nfl-football/line-history/304920/\n"
     ]
    }
   ],
   "source": [
    "print(base_url+line_url)"
   ]
  },
  {
   "cell_type": "code",
   "execution_count": 13,
   "id": "e11940c8",
   "metadata": {
    "scrolled": false
   },
   "outputs": [
    {
     "name": "stdout",
     "output_type": "stream",
     "text": [
      "<div class=\"row GameMatchup_mainColumn__cILb0\"><aside class=\"col-12 col-lg-3\"><div class=\"mt-2\"><h2 class=\"d-flex align-items-center justify-content-between mb-0 py-1 px-3 bg-dark h4\" data-bs-theme=\"dark\">Betting Consensus</h2><div class=\"d-flex justify-content-center pt-2\"><div class=\"col-4 d-flex flex-column justify-content-center text-center text-primary fx-bold pb-3 GameMatchup_TeamName__hOY6B\"><p class=\"h4\">Baltimore<br/>Ravens</p><span class=\"h5 mb-2 text-secondary opacity-75\">-3.5</span></div><div class=\"d-flex justify-content-center align-items-center mx-2 mt-4 rounded-circle fs-7 text-white bg-dark text-center GameMatchup_TagCircle__FABto\">vs</div><div class=\"col-4 d-flex flex-column justify-content-center text-center text-primary fx-bold pb-3 GameMatchup_TeamName__hOY6B\"><p class=\"h4\">Tampa Bay<br/>Buccaneers</p><span class=\"h5 mb-2 text-secondary opacity-75\">+3.5</span></div></div><div class=\"d-flex flex-column w-100 border-top undefined Rows_Rows__wF9TM\"><div class=\"d-flex align-content-center align-items-center justify-content-center fs-9 py-2 w-100 Rows_Row__9F5tn\"><div class=\"d-flex justify-content-center text-center Rows_RowData__KkO2R\">46%</div><div class=\"fs-8 fw-bold Rows_RowLabel__SPfRL\">Spread</div><div class=\"d-flex justify-content-center text-center Rows_RowData__KkO2R\">54%</div></div><div class=\"d-flex align-content-center align-items-center justify-content-center fs-9 py-2 w-100 Rows_Row__9F5tn\"><div class=\"d-flex justify-content-center text-center Rows_RowData__KkO2R\">68% O</div><div class=\"fs-8 fw-bold Rows_RowLabel__SPfRL\">Total</div><div class=\"d-flex justify-content-center text-center Rows_RowData__KkO2R\">32% U</div></div><div class=\"d-flex align-content-center align-items-center justify-content-center fs-9 py-2 w-100 Rows_Row__9F5tn\"><div class=\"d-flex justify-content-center text-center Rows_RowData__KkO2R\">-</div><div class=\"fs-8 fw-bold Rows_RowLabel__SPfRL\">Moneyline</div><div class=\"d-flex justify-content-center text-center Rows_RowData__KkO2R\">-</div></div></div></div><div class=\"mt-2 overflow-visible\"><h2 class=\"d-flex align-items-center justify-content-between mb-0 py-1 px-3 bg-dark h4\">Game Detail</h2><div class=\"fs-8 text-center py-2 border-top GameMatchup_GameRow___aNwo\">Raymond James Stadium<!-- -->, <!-- -->Tampa<!-- -->, <!-- -->FL<!-- -->, <!-- -->USA</div><div class=\"d-flex flex-column align-items-center fs-8 text-center py-2 border-top GameMatchup_GameRow___aNwo undefined\"><p>No weather information available</p></div></div></aside><section class=\"col order-3 order-lg-2 undefined\"><div class=\"mt-2 overflow-visible\"><h2 class=\"d-flex align-items-center justify-content-between mb-0 py-1 px-3 bg-dark h4\">Team Records</h2><div class=\"d-flex flex-column w-100 border-top Rows_Rows__wF9TM\"><div class=\"d-flex align-content-center align-items-center justify-content-center fs-9 py-2 w-100 Rows_Row__9F5tn\"><div class=\"d-flex justify-content-center text-center fs-bold text-dark text-uppercase Rows_RowData__KkO2R\">Baltimore</div><div class=\"fs-8 fw-bold Rows_RowLabel__SPfRL\"></div><div class=\"d-flex justify-content-center text-center fs-bold text-dark text-uppercase Rows_RowData__KkO2R\">Tampa Bay</div></div><div class=\"d-flex align-content-center align-items-center justify-content-center fs-9 py-2 w-100 Rows_Row__9F5tn\"><div class=\"d-flex justify-content-center text-center Rows_RowData__KkO2R\">3 - 2</div><div class=\"fs-8 fw-bold Rows_RowLabel__SPfRL\">Against the Spread</div><div class=\"d-flex justify-content-center text-center Rows_RowData__KkO2R\">4 - 2</div></div><div class=\"d-flex align-content-center align-items-center justify-content-center fs-9 py-2 w-100 Rows_Row__9F5tn\"><div class=\"d-flex justify-content-center text-center Rows_RowData__KkO2R\">5 / 1</div><div class=\"fs-8 fw-bold Rows_RowLabel__SPfRL\">Over / Under</div><div class=\"d-flex justify-content-center text-center Rows_RowData__KkO2R\">4 / 2</div></div><div class=\"d-flex align-content-center align-items-center justify-content-center fs-9 py-2 w-100 Rows_Row__9F5tn\"><div class=\"d-flex justify-content-center text-center Rows_RowData__KkO2R\">59</div><div class=\"fs-8 fw-bold Rows_RowLabel__SPfRL\">Straight Up Units</div><div class=\"d-flex justify-content-center text-center Rows_RowData__KkO2R\">308</div></div><div class=\"d-flex align-content-center align-items-center justify-content-center fs-9 py-2 w-100 Rows_Row__9F5tn\"><div class=\"d-flex justify-content-center text-center Rows_RowData__KkO2R\">-</div><div class=\"fs-8 fw-bold Rows_RowLabel__SPfRL\">ATS Units</div><div class=\"d-flex justify-content-center text-center Rows_RowData__KkO2R\">-</div></div></div></div><div class=\"mt-2 overflow-visible\"><h2 class=\"d-flex align-items-center justify-content-between mb-0 py-1 px-3 bg-dark h4\">Current Season Performance</h2><div class=\"d-flex flex-column w-100 border-top Rows_Rows__wF9TM\"><div class=\"d-flex align-content-center align-items-center justify-content-center fs-9 py-2 w-100 Rows_Row__9F5tn\"><div class=\"d-flex justify-content-center text-center fs-bold text-dark text-uppercase Rows_RowData__KkO2R\">Baltimore</div><div class=\"fs-8 fw-bold Rows_RowLabel__SPfRL\"></div><div class=\"d-flex justify-content-center text-center fs-bold text-dark text-uppercase Rows_RowData__KkO2R\">Tampa Bay</div></div><div class=\"d-flex align-content-center align-items-center justify-content-center fs-9 py-2 w-100 Rows_Row__9F5tn\"><div class=\"d-flex justify-content-center text-center Rows_RowData__KkO2R\">29.50</div><div class=\"fs-8 fw-bold Rows_RowLabel__SPfRL\">Avg. Points</div><div class=\"d-flex justify-content-center text-center Rows_RowData__KkO2R\">29.67</div></div><div class=\"d-flex align-content-center align-items-center justify-content-center fs-9 py-2 w-100 Rows_Row__9F5tn\"><div class=\"d-flex justify-content-center text-center Rows_RowData__KkO2R\">24.83</div><div class=\"fs-8 fw-bold Rows_RowLabel__SPfRL\">Avg. Points Against</div><div class=\"d-flex justify-content-center text-center Rows_RowData__KkO2R\">23.50</div></div><div class=\"d-flex align-content-center align-items-center justify-content-center fs-9 py-2 w-100 Rows_Row__9F5tn\"><div class=\"d-flex justify-content-center text-center Rows_RowData__KkO2R\">7.05</div><div class=\"fs-8 fw-bold Rows_RowLabel__SPfRL\">Yards per Play</div><div class=\"d-flex justify-content-center text-center Rows_RowData__KkO2R\">6.40</div></div><div class=\"d-flex align-content-center align-items-center justify-content-center fs-9 py-2 w-100 Rows_Row__9F5tn\"><div class=\"d-flex justify-content-center text-center Rows_RowData__KkO2R\">5.92</div><div class=\"fs-8 fw-bold Rows_RowLabel__SPfRL\">Opponent Yards per Play</div><div class=\"d-flex justify-content-center text-center Rows_RowData__KkO2R\">5.64</div></div><div class=\"d-flex align-content-center align-items-center justify-content-center fs-9 py-2 w-100 Rows_Row__9F5tn\"><div class=\"d-flex justify-content-center text-center Rows_RowData__KkO2R\">15.38</div><div class=\"fs-8 fw-bold Rows_RowLabel__SPfRL\">Yards per Point</div><div class=\"d-flex justify-content-center text-center Rows_RowData__KkO2R\">12.38</div></div><div class=\"d-flex align-content-center align-items-center justify-content-center fs-9 py-2 w-100 Rows_Row__9F5tn\"><div class=\"d-flex justify-content-center text-center Rows_RowData__KkO2R\">1.00</div><div class=\"fs-8 fw-bold Rows_RowLabel__SPfRL\">Avg. Turn Overs</div><div class=\"d-flex justify-content-center text-center Rows_RowData__KkO2R\">1.17</div></div><div class=\"d-flex align-content-center align-items-center justify-content-center fs-9 py-2 w-100 Rows_Row__9F5tn\"><div class=\"d-flex justify-content-center text-center Rows_RowData__KkO2R\">0.33</div><div class=\"fs-8 fw-bold Rows_RowLabel__SPfRL\">Avg. Opponent Turnovers</div><div class=\"d-flex justify-content-center text-center Rows_RowData__KkO2R\">0.83</div></div><div class=\"d-flex align-content-center align-items-center justify-content-center fs-9 py-2 w-100 Rows_Row__9F5tn\"><div class=\"d-flex justify-content-center text-center Rows_RowData__KkO2R\">33</div><div class=\"fs-8 fw-bold Rows_RowLabel__SPfRL\">Possession Minutes per Game</div><div class=\"d-flex justify-content-center text-center Rows_RowData__KkO2R\">31</div></div><div class=\"d-flex align-content-center align-items-center justify-content-center fs-9 py-2 w-100 Rows_Row__9F5tn\"><div class=\"d-flex justify-content-center text-center Rows_RowData__KkO2R\">15.33</div><div class=\"fs-8 fw-bold Rows_RowLabel__SPfRL\">Avg. Team Score at Half</div><div class=\"d-flex justify-content-center text-center Rows_RowData__KkO2R\">18.00</div></div><div class=\"d-flex align-content-center align-items-center justify-content-center fs-9 py-2 w-100 Rows_Row__9F5tn\"><div class=\"d-flex justify-content-center text-center Rows_RowData__KkO2R\">9.17</div><div class=\"fs-8 fw-bold Rows_RowLabel__SPfRL\">Avg. Opponent Score at Half</div><div class=\"d-flex justify-content-center text-center Rows_RowData__KkO2R\">14.00</div></div><div class=\"d-flex align-content-center align-items-center justify-content-center fs-9 py-2 w-100 Rows_Row__9F5tn\"><div class=\"d-flex justify-content-center text-center Rows_RowData__KkO2R\">67.23</div><div class=\"fs-8 fw-bold Rows_RowLabel__SPfRL\">Passing (%)</div><div class=\"d-flex justify-content-center text-center Rows_RowData__KkO2R\">70.90</div></div><div class=\"d-flex align-content-center align-items-center justify-content-center fs-9 py-2 w-100 Rows_Row__9F5tn\"><div class=\"d-flex justify-content-center text-center Rows_RowData__KkO2R\">5.89</div><div class=\"fs-8 fw-bold Rows_RowLabel__SPfRL\">Yards per Run</div><div class=\"d-flex justify-content-center text-center Rows_RowData__KkO2R\">5.30</div></div><div class=\"d-flex align-content-center align-items-center justify-content-center fs-9 py-2 w-100 Rows_Row__9F5tn\"><div class=\"d-flex justify-content-center text-center Rows_RowData__KkO2R\">51.47</div><div class=\"fs-8 fw-bold Rows_RowLabel__SPfRL\">3rd Down Conversion (%)</div><div class=\"d-flex justify-content-center text-center Rows_RowData__KkO2R\">47.06</div></div><div class=\"d-flex align-content-center align-items-center justify-content-center fs-9 py-2 w-100 Rows_Row__9F5tn\"><div class=\"d-flex justify-content-center text-center Rows_RowData__KkO2R\">75.00</div><div class=\"fs-8 fw-bold Rows_RowLabel__SPfRL\">4th Down Conversion (%)</div><div class=\"d-flex justify-content-center text-center Rows_RowData__KkO2R\">33.33</div></div></div></div><div class=\"mt-2 overflow-visible\"><h2 class=\"d-flex align-items-center justify-content-between mb-0 py-1 px-3 bg-dark h4\">Turnovers, Penalties &amp; Special Teams</h2><div class=\"d-flex flex-column w-100 border-top Rows_Rows__wF9TM\"><div class=\"d-flex align-content-center align-items-center justify-content-center fs-9 py-2 w-100 Rows_Row__9F5tn\"><div class=\"d-flex justify-content-center text-center fs-bold text-dark text-uppercase Rows_RowData__KkO2R\">Baltimore</div><div class=\"fs-8 fw-bold Rows_RowLabel__SPfRL\"></div><div class=\"d-flex justify-content-center text-center fs-bold text-dark text-uppercase Rows_RowData__KkO2R\">Tampa Bay</div></div><div class=\"d-flex align-content-center align-items-center justify-content-center fs-9 py-2 w-100 Rows_Row__9F5tn\"><div class=\"d-flex justify-content-center text-center Rows_RowData__KkO2R\">7.83 - 68.50</div><div class=\"fs-8 fw-bold Rows_RowLabel__SPfRL\">Avg Penalties - Yards</div><div class=\"d-flex justify-content-center text-center Rows_RowData__KkO2R\">6.00 - 42.17</div></div><div class=\"d-flex align-content-center align-items-center justify-content-center fs-9 py-2 w-100 Rows_Row__9F5tn\"><div class=\"d-flex justify-content-center text-center Rows_RowData__KkO2R\">1.67 - 37.17</div><div class=\"fs-8 fw-bold Rows_RowLabel__SPfRL\">Kickoff Returns per Game - Return Yards</div><div class=\"d-flex justify-content-center text-center Rows_RowData__KkO2R\">2.33 - 64.83</div></div><div class=\"d-flex align-content-center align-items-center justify-content-center fs-9 py-2 w-100 Rows_Row__9F5tn\"><div class=\"d-flex justify-content-center text-center Rows_RowData__KkO2R\">22.30</div><div class=\"fs-8 fw-bold Rows_RowLabel__SPfRL\">Avg Yards per Kick Return</div><div class=\"d-flex justify-content-center text-center Rows_RowData__KkO2R\">27.79</div></div><div class=\"d-flex align-content-center align-items-center justify-content-center fs-9 py-2 w-100 Rows_Row__9F5tn\"><div class=\"d-flex justify-content-center text-center Rows_RowData__KkO2R\">1.50 - 16.00</div><div class=\"fs-8 fw-bold Rows_RowLabel__SPfRL\">Punt Returns per Game - Return Yards</div><div class=\"d-flex justify-content-center text-center Rows_RowData__KkO2R\">1.00 - 7.17</div></div><div class=\"d-flex align-content-center align-items-center justify-content-center fs-9 py-2 w-100 Rows_Row__9F5tn\"><div class=\"d-flex justify-content-center text-center Rows_RowData__KkO2R\">10.67</div><div class=\"fs-8 fw-bold Rows_RowLabel__SPfRL\">Avg Yards per Punt Return</div><div class=\"d-flex justify-content-center text-center Rows_RowData__KkO2R\">7.17</div></div><div class=\"d-flex align-content-center align-items-center justify-content-center fs-9 py-2 w-100 Rows_Row__9F5tn\"><div class=\"d-flex justify-content-center text-center Rows_RowData__KkO2R\">0.50</div><div class=\"fs-8 fw-bold Rows_RowLabel__SPfRL\">Avg. Interceptions per Game</div><div class=\"d-flex justify-content-center text-center Rows_RowData__KkO2R\">0.83</div></div><div class=\"d-flex align-content-center align-items-center justify-content-center fs-9 py-2 w-100 Rows_Row__9F5tn\"><div class=\"d-flex justify-content-center text-center Rows_RowData__KkO2R\">0.50</div><div class=\"fs-8 fw-bold Rows_RowLabel__SPfRL\">Fumbles Lost per Game</div><div class=\"d-flex justify-content-center text-center Rows_RowData__KkO2R\">0.33</div></div><div class=\"d-flex align-content-center align-items-center justify-content-center fs-9 py-2 w-100 Rows_Row__9F5tn\"><div class=\"d-flex justify-content-center text-center Rows_RowData__KkO2R\">1.00</div><div class=\"fs-8 fw-bold Rows_RowLabel__SPfRL\">Avg. Turn Overs</div><div class=\"d-flex justify-content-center text-center Rows_RowData__KkO2R\">1.17</div></div><div class=\"d-flex align-content-center align-items-center justify-content-center fs-9 py-2 w-100 Rows_Row__9F5tn\"><div class=\"d-flex justify-content-center text-center Rows_RowData__KkO2R\">-3</div><div class=\"fs-8 fw-bold Rows_RowLabel__SPfRL\">Turnover Differential</div><div class=\"d-flex justify-content-center text-center Rows_RowData__KkO2R\">-5</div></div></div></div></section><aside class=\"col-12 col-lg-3 order-2 order-lg-3\"><div class=\"mt-2 overflow-visible\"><h2 class=\"d-flex align-items-center justify-content-between mb-0 py-1 px-3 bg-dark h4\">Best Spread Odds</h2><div><div class=\"row justify-content-between border-bottom pt-4 pb-3\"><div class=\"col-6\"><h4>Baltimore Ravens</h4><a class=\"d-flex text-align-center justify-content-center\" data-aatracker=\"Matchup Right Sidebar - Visit Site CTA - BetRivers\" href=\"https://c.sportsbookreview.com/betrivers_usa\" rel=\"nofollow\" target=\"_blank\"><span style=\"box-sizing:border-box;display:inline-block;overflow:hidden;width:initial;height:initial;background:none;opacity:1;border:0;margin:0;padding:0;position:relative;max-width:100%\"><span style=\"box-sizing:border-box;display:block;width:initial;height:initial;background:none;opacity:1;border:0;margin:0;padding:0;max-width:100%\"><img alt=\"\" aria-hidden=\"true\" src=\"data:image/svg+xml,%3csvg%20xmlns=%27http://www.w3.org/2000/svg%27%20version=%271.1%27%20width=%2775%27%20height=%2745%27/%3e\" style=\"display:block;max-width:100%;width:initial;height:initial;background:none;opacity:1;border:0;margin:0;padding:0\"/></span><img alt=\"BetRivers\" data-nimg=\"intrinsic\" decoding=\"async\" src=\"data:image/gif;base64,R0lGODlhAQABAIAAAAAAAP///yH5BAEAAAAALAAAAAABAAEAAAIBRAA7\" style=\"position:absolute;top:0;left:0;bottom:0;right:0;box-sizing:border-box;padding:0;border:none;margin:auto;display:block;width:0;height:0;min-width:100%;max-width:100%;min-height:100%;max-height:100%\"/><noscript><img alt=\"BetRivers\" data-nimg=\"intrinsic\" decoding=\"async\" loading=\"lazy\" src=\"https://img.sportsbookreview.com/uploads/9a946969-e33e-4ce0-a1b0-1d628b0fad07.svg\" srcset=\"https://img.sportsbookreview.com/uploads/9a946969-e33e-4ce0-a1b0-1d628b0fad07.svg 1x, https://img.sportsbookreview.com/uploads/9a946969-e33e-4ce0-a1b0-1d628b0fad07.svg 2x\" style=\"position:absolute;top:0;left:0;bottom:0;right:0;box-sizing:border-box;padding:0;border:none;margin:auto;display:block;width:0;height:0;min-width:100%;max-width:100%;min-height:100%;max-height:100%\"/></noscript></span></a></div><div class=\"col-6 text-end\"><span class=\"text-primary h3 fs-3 m-0 text-right undefined\">-3.5<small class=\"h4 d-block\">-108</small></span></div></div></div><div><div class=\"row justify-content-between border-bottom pt-4 pb-3\"><div class=\"col-6\"><h4>Tampa Bay Buccaneers</h4><a class=\"d-flex text-align-center justify-content-center\" data-aatracker=\"Matchup Right Sidebar - Visit Site CTA - FanDuel\" href=\"https://c.sportsbookreview.com/fanduel_wyoming\" rel=\"nofollow\" target=\"_blank\"><span style=\"box-sizing:border-box;display:inline-block;overflow:hidden;width:initial;height:initial;background:none;opacity:1;border:0;margin:0;padding:0;position:relative;max-width:100%\"><span style=\"box-sizing:border-box;display:block;width:initial;height:initial;background:none;opacity:1;border:0;margin:0;padding:0;max-width:100%\"><img alt=\"\" aria-hidden=\"true\" src=\"data:image/svg+xml,%3csvg%20xmlns=%27http://www.w3.org/2000/svg%27%20version=%271.1%27%20width=%2775%27%20height=%2745%27/%3e\" style=\"display:block;max-width:100%;width:initial;height:initial;background:none;opacity:1;border:0;margin:0;padding:0\"/></span><img alt=\"FanDuel\" data-nimg=\"intrinsic\" decoding=\"async\" src=\"data:image/gif;base64,R0lGODlhAQABAIAAAAAAAP///yH5BAEAAAAALAAAAAABAAEAAAIBRAA7\" style=\"position:absolute;top:0;left:0;bottom:0;right:0;box-sizing:border-box;padding:0;border:none;margin:auto;display:block;width:0;height:0;min-width:100%;max-width:100%;min-height:100%;max-height:100%\"/><noscript><img alt=\"FanDuel\" data-nimg=\"intrinsic\" decoding=\"async\" loading=\"lazy\" src=\"https://img.sportsbookreview.com/uploads/d792a17d-a327-4930-8ac9-1fcc00b18aff.svg\" srcset=\"https://img.sportsbookreview.com/uploads/d792a17d-a327-4930-8ac9-1fcc00b18aff.svg 1x, https://img.sportsbookreview.com/uploads/d792a17d-a327-4930-8ac9-1fcc00b18aff.svg 2x\" style=\"position:absolute;top:0;left:0;bottom:0;right:0;box-sizing:border-box;padding:0;border:none;margin:auto;display:block;width:0;height:0;min-width:100%;max-width:100%;min-height:100%;max-height:100%\"/></noscript></span></a></div><div class=\"col-6 text-end\"><span class=\"text-primary h3 fs-3 m-0 text-right undefined\">+4<small class=\"h4 d-block\">-105</small></span></div></div></div></div><div class=\"mt-2 overflow-visible\"><h2 class=\"d-flex align-items-center justify-content-between mb-0 py-1 px-3 bg-dark h4\">Best Total Odds</h2><div><div class=\"row justify-content-between border-bottom pt-4 pb-3\"><div class=\"col-6\"><h4>Over</h4><a class=\"d-flex text-align-center justify-content-center\" data-aatracker=\"Matchup Right Sidebar - Visit Site CTA - FanDuel\" href=\"https://c.sportsbookreview.com/fanduel_wyoming\" rel=\"nofollow\" target=\"_blank\"><span style=\"box-sizing:border-box;display:inline-block;overflow:hidden;width:initial;height:initial;background:none;opacity:1;border:0;margin:0;padding:0;position:relative;max-width:100%\"><span style=\"box-sizing:border-box;display:block;width:initial;height:initial;background:none;opacity:1;border:0;margin:0;padding:0;max-width:100%\"><img alt=\"\" aria-hidden=\"true\" src=\"data:image/svg+xml,%3csvg%20xmlns=%27http://www.w3.org/2000/svg%27%20version=%271.1%27%20width=%2775%27%20height=%2745%27/%3e\" style=\"display:block;max-width:100%;width:initial;height:initial;background:none;opacity:1;border:0;margin:0;padding:0\"/></span><img alt=\"FanDuel\" data-nimg=\"intrinsic\" decoding=\"async\" src=\"data:image/gif;base64,R0lGODlhAQABAIAAAAAAAP///yH5BAEAAAAALAAAAAABAAEAAAIBRAA7\" style=\"position:absolute;top:0;left:0;bottom:0;right:0;box-sizing:border-box;padding:0;border:none;margin:auto;display:block;width:0;height:0;min-width:100%;max-width:100%;min-height:100%;max-height:100%\"/><noscript><img alt=\"FanDuel\" data-nimg=\"intrinsic\" decoding=\"async\" loading=\"lazy\" src=\"https://img.sportsbookreview.com/uploads/d792a17d-a327-4930-8ac9-1fcc00b18aff.svg\" srcset=\"https://img.sportsbookreview.com/uploads/d792a17d-a327-4930-8ac9-1fcc00b18aff.svg 1x, https://img.sportsbookreview.com/uploads/d792a17d-a327-4930-8ac9-1fcc00b18aff.svg 2x\" style=\"position:absolute;top:0;left:0;bottom:0;right:0;box-sizing:border-box;padding:0;border:none;margin:auto;display:block;width:0;height:0;min-width:100%;max-width:100%;min-height:100%;max-height:100%\"/></noscript></span></a></div><div class=\"col-6 text-end\"><span class=\"text-primary h3 fs-3 m-0 text-right undefined\">48<small class=\"h4 d-block\">-105</small></span></div></div></div><div><div class=\"row justify-content-between border-bottom pt-4 pb-3\"><div class=\"col-6\"><h4>Under</h4><a class=\"d-flex text-align-center justify-content-center\" data-aatracker=\"Matchup Right Sidebar - Visit Site CTA - DraftKings\" href=\"https://c.sportsbookreview.com/draftkings_usa\" rel=\"nofollow\" target=\"_blank\"><span style=\"box-sizing:border-box;display:inline-block;overflow:hidden;width:initial;height:initial;background:none;opacity:1;border:0;margin:0;padding:0;position:relative;max-width:100%\"><span style=\"box-sizing:border-box;display:block;width:initial;height:initial;background:none;opacity:1;border:0;margin:0;padding:0;max-width:100%\"><img alt=\"\" aria-hidden=\"true\" src=\"data:image/svg+xml,%3csvg%20xmlns=%27http://www.w3.org/2000/svg%27%20version=%271.1%27%20width=%2775%27%20height=%2745%27/%3e\" style=\"display:block;max-width:100%;width:initial;height:initial;background:none;opacity:1;border:0;margin:0;padding:0\"/></span><img alt=\"DraftKings\" data-nimg=\"intrinsic\" decoding=\"async\" src=\"data:image/gif;base64,R0lGODlhAQABAIAAAAAAAP///yH5BAEAAAAALAAAAAABAAEAAAIBRAA7\" style=\"position:absolute;top:0;left:0;bottom:0;right:0;box-sizing:border-box;padding:0;border:none;margin:auto;display:block;width:0;height:0;min-width:100%;max-width:100%;min-height:100%;max-height:100%\"/><noscript><img alt=\"DraftKings\" data-nimg=\"intrinsic\" decoding=\"async\" loading=\"lazy\" src=\"https://img.sportsbookreview.com/uploads/bb5e5e1b-a5ba-4b71-8d37-797fd5e93e76.svg\" srcset=\"https://img.sportsbookreview.com/uploads/bb5e5e1b-a5ba-4b71-8d37-797fd5e93e76.svg 1x, https://img.sportsbookreview.com/uploads/bb5e5e1b-a5ba-4b71-8d37-797fd5e93e76.svg 2x\" style=\"position:absolute;top:0;left:0;bottom:0;right:0;box-sizing:border-box;padding:0;border:none;margin:auto;display:block;width:0;height:0;min-width:100%;max-width:100%;min-height:100%;max-height:100%\"/></noscript></span></a></div><div class=\"col-6 text-end\"><span class=\"text-primary h3 fs-3 m-0 text-right undefined\">48.5<small class=\"h4 d-block\">-110</small></span></div></div></div></div><div class=\"mt-2 overflow-visible\"><h2 class=\"d-flex align-items-center justify-content-between mb-0 py-1 px-3 bg-dark h4\">Best Moneyline Odds</h2><div><div class=\"row justify-content-between border-bottom pt-4 pb-3\"><div class=\"col-6\"><h4>Baltimore Ravens</h4><a class=\"d-flex text-align-center justify-content-center\" data-aatracker=\"Matchup Right Sidebar - Visit Site CTA - DraftKings\" href=\"https://c.sportsbookreview.com/draftkings_usa\" rel=\"nofollow\" target=\"_blank\"><span style=\"box-sizing:border-box;display:inline-block;overflow:hidden;width:initial;height:initial;background:none;opacity:1;border:0;margin:0;padding:0;position:relative;max-width:100%\"><span style=\"box-sizing:border-box;display:block;width:initial;height:initial;background:none;opacity:1;border:0;margin:0;padding:0;max-width:100%\"><img alt=\"\" aria-hidden=\"true\" src=\"data:image/svg+xml,%3csvg%20xmlns=%27http://www.w3.org/2000/svg%27%20version=%271.1%27%20width=%2775%27%20height=%2745%27/%3e\" style=\"display:block;max-width:100%;width:initial;height:initial;background:none;opacity:1;border:0;margin:0;padding:0\"/></span><img alt=\"DraftKings\" data-nimg=\"intrinsic\" decoding=\"async\" src=\"data:image/gif;base64,R0lGODlhAQABAIAAAAAAAP///yH5BAEAAAAALAAAAAABAAEAAAIBRAA7\" style=\"position:absolute;top:0;left:0;bottom:0;right:0;box-sizing:border-box;padding:0;border:none;margin:auto;display:block;width:0;height:0;min-width:100%;max-width:100%;min-height:100%;max-height:100%\"/><noscript><img alt=\"DraftKings\" data-nimg=\"intrinsic\" decoding=\"async\" loading=\"lazy\" src=\"https://img.sportsbookreview.com/uploads/bb5e5e1b-a5ba-4b71-8d37-797fd5e93e76.svg\" srcset=\"https://img.sportsbookreview.com/uploads/bb5e5e1b-a5ba-4b71-8d37-797fd5e93e76.svg 1x, https://img.sportsbookreview.com/uploads/bb5e5e1b-a5ba-4b71-8d37-797fd5e93e76.svg 2x\" style=\"position:absolute;top:0;left:0;bottom:0;right:0;box-sizing:border-box;padding:0;border:none;margin:auto;display:block;width:0;height:0;min-width:100%;max-width:100%;min-height:100%;max-height:100%\"/></noscript></span></a></div><div class=\"col-6 text-end\"><span class=\"text-primary h3 fs-3 m-0 text-right undefined\">-180<small class=\"h4 d-block\"></small></span></div></div></div><div><div class=\"row justify-content-between border-bottom pt-4 pb-3\"><div class=\"col-6\"><h4>Tampa Bay Buccaneers</h4><a class=\"d-flex text-align-center justify-content-center\" data-aatracker=\"Matchup Right Sidebar - Visit Site CTA - FanDuel\" href=\"https://c.sportsbookreview.com/fanduel_wyoming\" rel=\"nofollow\" target=\"_blank\"><span style=\"box-sizing:border-box;display:inline-block;overflow:hidden;width:initial;height:initial;background:none;opacity:1;border:0;margin:0;padding:0;position:relative;max-width:100%\"><span style=\"box-sizing:border-box;display:block;width:initial;height:initial;background:none;opacity:1;border:0;margin:0;padding:0;max-width:100%\"><img alt=\"\" aria-hidden=\"true\" src=\"data:image/svg+xml,%3csvg%20xmlns=%27http://www.w3.org/2000/svg%27%20version=%271.1%27%20width=%2775%27%20height=%2745%27/%3e\" style=\"display:block;max-width:100%;width:initial;height:initial;background:none;opacity:1;border:0;margin:0;padding:0\"/></span><img alt=\"FanDuel\" data-nimg=\"intrinsic\" decoding=\"async\" src=\"data:image/gif;base64,R0lGODlhAQABAIAAAAAAAP///yH5BAEAAAAALAAAAAABAAEAAAIBRAA7\" style=\"position:absolute;top:0;left:0;bottom:0;right:0;box-sizing:border-box;padding:0;border:none;margin:auto;display:block;width:0;height:0;min-width:100%;max-width:100%;min-height:100%;max-height:100%\"/><noscript><img alt=\"FanDuel\" data-nimg=\"intrinsic\" decoding=\"async\" loading=\"lazy\" src=\"https://img.sportsbookreview.com/uploads/d792a17d-a327-4930-8ac9-1fcc00b18aff.svg\" srcset=\"https://img.sportsbookreview.com/uploads/d792a17d-a327-4930-8ac9-1fcc00b18aff.svg 1x, https://img.sportsbookreview.com/uploads/d792a17d-a327-4930-8ac9-1fcc00b18aff.svg 2x\" style=\"position:absolute;top:0;left:0;bottom:0;right:0;box-sizing:border-box;padding:0;border:none;margin:auto;display:block;width:0;height:0;min-width:100%;max-width:100%;min-height:100%;max-height:100%\"/></noscript></span></a></div><div class=\"col-6 text-end\"><span class=\"text-primary h3 fs-3 m-0 text-right undefined\">+168<small class=\"h4 d-block\"></small></span></div></div></div></div></aside></div>\n"
     ]
    }
   ],
   "source": [
    "div = game_soup.find('div', class_='row GameMatchup_mainColumn__cILb0')\n",
    "print(div)"
   ]
  },
  {
   "cell_type": "code",
   "execution_count": null,
   "id": "5840c414",
   "metadata": {},
   "outputs": [],
   "source": []
  }
 ],
 "metadata": {
  "kernelspec": {
   "display_name": "Python 3",
   "language": "python",
   "name": "python3"
  },
  "language_info": {
   "codemirror_mode": {
    "name": "ipython",
    "version": 3
   },
   "file_extension": ".py",
   "mimetype": "text/x-python",
   "name": "python",
   "nbconvert_exporter": "python",
   "pygments_lexer": "ipython3",
   "version": "3.8.8"
  }
 },
 "nbformat": 4,
 "nbformat_minor": 5
}
