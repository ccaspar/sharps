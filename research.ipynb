{
 "cells": [
  {
   "cell_type": "code",
   "execution_count": 1,
   "id": "dc6e7db0",
   "metadata": {},
   "outputs": [],
   "source": [
    "!pip install requests"
   ]
  },
  {
   "cell_type": "code",
   "execution_count": null,
   "id": "44acb037",
   "metadata": {},
   "outputs": [],
   "source": [
    "import numpy as np\n",
    "import pandas as pd\n",
    "import requests"
   ]
  },
  {
   "cell_type": "code",
   "execution_count": 2,
   "id": "976f6c3d",
   "metadata": {},
   "outputs": [],
   "source": [
    "# constants - base url and api key\n",
    "BASE_URL = \"https://sportsopendata.net/api/v1\"\n",
    "API_KEY = 'tbd'\n",
    "\n",
    "# get data function\n",
    "def get_football_data():\n",
    "    # football endpoint\n",
    "    endpoint = f\"{BASE_URL}/football/games\"\n",
    "    \n",
    "    # set up headers with API key\n",
    "    headers = {\n",
    "        'User-Agent': 'sharps',\n",
    "        'apikey': API_KEY\n",
    "    }\n",
    "\n",
    "    try:\n",
    "        # try request to the API\n",
    "        response = requests.get(endpoint, headers=headers)\n",
    "        response.raise_for_status()  # raise an error for bad responses\n",
    "        \n",
    "        # parse JSON\n",
    "        data = response.json()\n",
    "        return data\n",
    "\n",
    "    except requests.exceptions.RequestException as e:\n",
    "        print(f\"Error fetching data: {e}\")\n",
    "        return None"
   ]
  },
  {
   "cell_type": "code",
   "execution_count": 3,
   "id": "c560f2fc",
   "metadata": {},
   "outputs": [
    {
     "name": "stdout",
     "output_type": "stream",
     "text": [
      "This is working\n"
     ]
    }
   ],
   "source": [
    "# run function\n",
    "football_data = get_american_football_data()"
   ]
  },
  {
   "cell_type": "code",
   "execution_count": null,
   "id": "dce16766",
   "metadata": {},
   "outputs": [],
   "source": [
    "print(football_data)"
   ]
  }
 ],
 "metadata": {
  "kernelspec": {
   "display_name": "Python 3",
   "language": "python",
   "name": "python3"
  },
  "language_info": {
   "codemirror_mode": {
    "name": "ipython",
    "version": 3
   },
   "file_extension": ".py",
   "mimetype": "text/x-python",
   "name": "python",
   "nbconvert_exporter": "python",
   "pygments_lexer": "ipython3",
   "version": "3.8.8"
  }
 },
 "nbformat": 4,
 "nbformat_minor": 5
}
