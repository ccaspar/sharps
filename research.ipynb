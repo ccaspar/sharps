{
 "cells": [
  {
   "cell_type": "code",
   "execution_count": 1,
   "id": "dc6e7db0",
   "metadata": {},
   "outputs": [],
   "source": [
    "!pip install requests"
   ]
  },
  {
   "cell_type": "code",
   "execution_count": 1,
   "id": "44acb037",
   "metadata": {},
   "outputs": [],
   "source": [
    "import numpy as np\n",
    "import pandas as pd\n",
    "import requests\n",
    "import re\n",
    "from bs4 import BeautifulSoup"
   ]
  },
  {
   "cell_type": "code",
   "execution_count": null,
   "id": "1104553c",
   "metadata": {},
   "outputs": [],
   "source": [
    "# goals\n",
    "# - line history\n",
    "# - % bets\n",
    "# - % money\n",
    "# NFL side and total"
   ]
  },
  {
   "cell_type": "code",
   "execution_count": 13,
   "id": "aab53cf5",
   "metadata": {},
   "outputs": [],
   "source": [
    "# scraping function\n",
    "def scrape_for_soup(base_url, url):\n",
    "    # send GET request\n",
    "    response = requests.get(base_url+url)\n",
    "\n",
    "    # status check\n",
    "    if response.status_code != 200:\n",
    "        return(f\"Error: {response.status_code}\")\n",
    "\n",
    "    # parse HTML\n",
    "    soup = BeautifulSoup(response.text, 'html.parser')\n",
    "    return soup"
   ]
  },
  {
   "cell_type": "code",
   "execution_count": 3,
   "id": "00e3e8df",
   "metadata": {},
   "outputs": [],
   "source": [
    "base_url = 'https://www.sportsbookreview.com'\n",
    "url = '/betting-odds/nfl-football/'\n",
    "soup = scrape_for_soup(base_url, url)\n",
    "\n",
    "# parse links for game spread and spread history\n",
    "games = soup.find_all('div', id='tbody-nfl')\n",
    "main_links = set()\n",
    "line_links = set()\n",
    "for game in games:\n",
    "    for a_tag in game.find_all('a', href=True):\n",
    "        link = a_tag['href']\n",
    "        if 'scores' in link:\n",
    "            main_links.add(link)\n",
    "        if 'line-history' in link:\n",
    "            line_links.add(link)"
   ]
  },
  {
   "cell_type": "code",
   "execution_count": 4,
   "id": "7a2e083a",
   "metadata": {
    "scrolled": true
   },
   "outputs": [
    {
     "data": {
      "text/plain": [
       "{'/scores/nfl-football/matchup/304807/',\n",
       " '/scores/nfl-football/matchup/304842/',\n",
       " '/scores/nfl-football/matchup/304916/',\n",
       " '/scores/nfl-football/matchup/304917/',\n",
       " '/scores/nfl-football/matchup/304918/',\n",
       " '/scores/nfl-football/matchup/304920/',\n",
       " '/scores/nfl-football/matchup/304921/',\n",
       " '/scores/nfl-football/matchup/304922/',\n",
       " '/scores/nfl-football/matchup/304932/',\n",
       " '/scores/nfl-football/matchup/304935/',\n",
       " '/scores/nfl-football/matchup/304936/',\n",
       " '/scores/nfl-football/matchup/304937/',\n",
       " '/scores/nfl-football/matchup/304941/',\n",
       " '/scores/nfl-football/matchup/304945/',\n",
       " '/scores/nfl-football/matchup/304946/'}"
      ]
     },
     "execution_count": 4,
     "metadata": {},
     "output_type": "execute_result"
    }
   ],
   "source": [
    "main_links"
   ]
  },
  {
   "cell_type": "code",
   "execution_count": 27,
   "id": "aa67d41a",
   "metadata": {},
   "outputs": [],
   "source": [
    "# iterate through each link to scrape target data\n",
    "game_url = list(main_links)[0]\n",
    "# send request\n",
    "game_soup = scrape_for_soup(base_url, game_url)\n",
    "# pull number bets on spread and o/u"
   ]
  },
  {
   "cell_type": "code",
   "execution_count": 6,
   "id": "1b3b6640",
   "metadata": {},
   "outputs": [
    {
     "name": "stdout",
     "output_type": "stream",
     "text": [
      "https://www.sportsbookreview.com/scores/nfl-football/matchup/304917/\n"
     ]
    }
   ],
   "source": [
    "print(base_url+game_url)"
   ]
  },
  {
   "cell_type": "code",
   "execution_count": 35,
   "id": "6d5bbeeb",
   "metadata": {},
   "outputs": [
    {
     "name": "stdout",
     "output_type": "stream",
     "text": [
      "The spread is +2\n",
      "% bets New OrleansSaints +2: 63\n",
      "% bets DenverBroncos -2 % bets: 37 \n",
      "\n",
      "The total is 36.5\n",
      "% bets over 36.5: 65\n",
      "% bets under 36.5:35\n"
     ]
    }
   ],
   "source": [
    "# spread bets\n",
    "spread = game_soup.find('div', text=re.compile('Spread'))\n",
    "home_perc = spread.next_sibling.get_text()[:-1]\n",
    "away_perc = spread.previous_sibling.get_text()[:-1]\n",
    "\n",
    "# over/under bets\n",
    "total_bets = game_soup.find('div', text=re.compile('Total'))\n",
    "over_perc = total_bets.previous_sibling.get_text()[:-3]\n",
    "under_perc = total_bets.next_sibling.get_text()[:-3]\n",
    "# pull total\n",
    "tot_div = game_soup.find('div', class_='row GameMatchup_mainColumn__cILb0')\n",
    "# find the span that contains the best total for the over and strip the first element (second element is odds if needed)\n",
    "total = float(tot_div.find('h4', text='Over').find_parent('div').find_next_sibling('div').find('span').contents[0].strip())\n",
    "\n",
    "# teams and spread\n",
    "away_div = game_soup.find('div', class_=re.compile('TeamName'))\n",
    "home_div = game_soup.find('div', class_=re.compile('TeamName')).findNext('div', class_=re.compile('TeamName'))\n",
    "home_team = re.findall('.+?(?=\\+|-|PK)',home_div.get_text())[0]\n",
    "away_team = re.findall('.+?(?=\\+|-|PK)',away_div.get_text())[0]\n",
    "away_spread = away_div.find(text=re.compile('\\+?\\-?\\d+\\.?\\d*'))\n",
    "home_spread = home_div.find(text=re.compile('\\+?\\-?\\d+\\.?\\d*'))\n",
    "print(f'The spread is {home_spread}')\n",
    "print(f'% bets {home_team} {home_spread}: {home_perc}')\n",
    "print(f'% bets {away_team} {away_spread} % bets: {away_perc} \\n')\n",
    "print(f'The total is {str(total)}')\n",
    "print(f'% bets over {str(total)}: {over_perc}')\n",
    "print(f'% bets under {str(total)}:{under_perc}')"
   ]
  },
  {
   "cell_type": "code",
   "execution_count": null,
   "id": "db21d7b5",
   "metadata": {},
   "outputs": [],
   "source": [
    "#TODO\n",
    "# iterate through links and add these to df"
   ]
  },
  {
   "cell_type": "code",
   "execution_count": 9,
   "id": "db3a5fda",
   "metadata": {},
   "outputs": [],
   "source": [
    "# next: pull total history/movement if possible\n",
    "line_url = list(line_links)[0]\n",
    "line_soup = scrape_for_soup(base_url, line_url)"
   ]
  },
  {
   "cell_type": "code",
   "execution_count": 10,
   "id": "8bbb8330",
   "metadata": {},
   "outputs": [
    {
     "name": "stdout",
     "output_type": "stream",
     "text": [
      "https://www.sportsbookreview.com/betting-odds/nfl-football/line-history/304842/\n"
     ]
    }
   ],
   "source": [
    "print(base_url+line_url)"
   ]
  },
  {
   "cell_type": "code",
   "execution_count": 26,
   "id": "e11940c8",
   "metadata": {},
   "outputs": [
    {
     "name": "stdout",
     "output_type": "stream",
     "text": [
      "None\n"
     ]
    }
   ],
   "source": [
    "div = game_soup.find('div', class_='row GameMatchup_mainColumn__cILb0')\n",
    "print(div)"
   ]
  },
  {
   "cell_type": "code",
   "execution_count": null,
   "id": "7f58e0d8",
   "metadata": {},
   "outputs": [],
   "source": []
  }
 ],
 "metadata": {
  "kernelspec": {
   "display_name": "Python 3",
   "language": "python",
   "name": "python3"
  },
  "language_info": {
   "codemirror_mode": {
    "name": "ipython",
    "version": 3
   },
   "file_extension": ".py",
   "mimetype": "text/x-python",
   "name": "python",
   "nbconvert_exporter": "python",
   "pygments_lexer": "ipython3",
   "version": "3.8.8"
  }
 },
 "nbformat": 4,
 "nbformat_minor": 5
}
