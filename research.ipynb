{
 "cells": [
  {
   "cell_type": "code",
   "execution_count": 1,
   "id": "dc6e7db0",
   "metadata": {},
   "outputs": [],
   "source": [
    "!pip install requests"
   ]
  },
  {
   "cell_type": "code",
   "execution_count": 1,
   "id": "44acb037",
   "metadata": {},
   "outputs": [],
   "source": [
    "import numpy as np\n",
    "import pandas as pd\n",
    "import requests\n",
    "from bs4 import BeautifulSoup"
   ]
  },
  {
   "cell_type": "code",
   "execution_count": null,
   "id": "1104553c",
   "metadata": {},
   "outputs": [],
   "source": [
    "# goals\n",
    "# - line history\n",
    "# - % bets\n",
    "# - % money\n",
    "# NFL side and total"
   ]
  },
  {
   "cell_type": "code",
   "execution_count": 9,
   "id": "00e3e8df",
   "metadata": {},
   "outputs": [],
   "source": [
    "base_url = 'https://www.sportsbookreview.com'\n",
    "url = '/betting-odds/nfl-football/'\n",
    "# send GET request\n",
    "response = requests.get(base_url+url)\n",
    "\n",
    "# status check\n",
    "if response.status_code != 200:\n",
    "    print(f\"Error: {response.status_code}\")\n",
    "    \n",
    "# parse HTML\n",
    "soup = BeautifulSoup(response.text, 'html.parser')\n",
    "\n",
    "# parse links for game spread and spread history\n",
    "games = soup.find_all('div', id='tbody-nfl')\n",
    "main_links = set()\n",
    "line_links = set()\n",
    "for game in games:\n",
    "    for a_tag in game.find_all('a', href=True):\n",
    "        link = a_tag['href']\n",
    "        if 'scores' in link:\n",
    "            main_links.add(base_url+link)\n",
    "        if 'line-history' in link:\n",
    "            line_links.add(base_url+link)"
   ]
  },
  {
   "cell_type": "code",
   "execution_count": 42,
   "id": "7a2e083a",
   "metadata": {},
   "outputs": [
    {
     "data": {
      "text/plain": [
       "{'https://www.sportsbookreview.com/scores/nfl-football/matchup/305024/',\n",
       " 'https://www.sportsbookreview.com/scores/nfl-football/matchup/305026/',\n",
       " 'https://www.sportsbookreview.com/scores/nfl-football/matchup/305028/',\n",
       " 'https://www.sportsbookreview.com/scores/nfl-football/matchup/305031/',\n",
       " 'https://www.sportsbookreview.com/scores/nfl-football/matchup/305034/',\n",
       " 'https://www.sportsbookreview.com/scores/nfl-football/matchup/305037/',\n",
       " 'https://www.sportsbookreview.com/scores/nfl-football/matchup/305040/',\n",
       " 'https://www.sportsbookreview.com/scores/nfl-football/matchup/305042/',\n",
       " 'https://www.sportsbookreview.com/scores/nfl-football/matchup/305044/',\n",
       " 'https://www.sportsbookreview.com/scores/nfl-football/matchup/305047/',\n",
       " 'https://www.sportsbookreview.com/scores/nfl-football/matchup/305049/',\n",
       " 'https://www.sportsbookreview.com/scores/nfl-football/matchup/305051/',\n",
       " 'https://www.sportsbookreview.com/scores/nfl-football/matchup/305052/',\n",
       " 'https://www.sportsbookreview.com/scores/nfl-football/matchup/305053/',\n",
       " 'https://www.sportsbookreview.com/scores/nfl-football/matchup/305059/',\n",
       " 'https://www.sportsbookreview.com/scores/nfl-football/matchup/305067/'}"
      ]
     },
     "execution_count": 42,
     "metadata": {},
     "output_type": "execute_result"
    }
   ],
   "source": [
    "main_links"
   ]
  },
  {
   "cell_type": "code",
   "execution_count": 40,
   "id": "3e105065",
   "metadata": {},
   "outputs": [
    {
     "data": {
      "text/plain": [
       "16"
      ]
     },
     "execution_count": 40,
     "metadata": {},
     "output_type": "execute_result"
    }
   ],
   "source": [
    "len(main_links)"
   ]
  },
  {
   "cell_type": "code",
   "execution_count": null,
   "id": "aa67d41a",
   "metadata": {},
   "outputs": [],
   "source": []
  },
  {
   "cell_type": "code",
   "execution_count": null,
   "id": "e76f0ee8",
   "metadata": {},
   "outputs": [],
   "source": []
  },
  {
   "cell_type": "code",
   "execution_count": null,
   "id": "00b9a8b6",
   "metadata": {},
   "outputs": [],
   "source": []
  },
  {
   "cell_type": "code",
   "execution_count": null,
   "id": "a5630eb9",
   "metadata": {},
   "outputs": [],
   "source": []
  }
 ],
 "metadata": {
  "kernelspec": {
   "display_name": "Python 3",
   "language": "python",
   "name": "python3"
  },
  "language_info": {
   "codemirror_mode": {
    "name": "ipython",
    "version": 3
   },
   "file_extension": ".py",
   "mimetype": "text/x-python",
   "name": "python",
   "nbconvert_exporter": "python",
   "pygments_lexer": "ipython3",
   "version": "3.8.8"
  }
 },
 "nbformat": 4,
 "nbformat_minor": 5
}
